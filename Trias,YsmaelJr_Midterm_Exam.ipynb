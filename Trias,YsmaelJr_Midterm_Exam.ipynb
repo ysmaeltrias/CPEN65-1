{
  "nbformat": 4,
  "nbformat_minor": 0,
  "metadata": {
    "colab": {
      "provenance": [],
      "authorship_tag": "ABX9TyOg47FwofMNy8pHOYdntTE4",
      "include_colab_link": true
    },
    "kernelspec": {
      "name": "python3",
      "display_name": "Python 3"
    },
    "language_info": {
      "name": "python"
    }
  },
  "cells": [
    {
      "cell_type": "markdown",
      "metadata": {
        "id": "view-in-github",
        "colab_type": "text"
      },
      "source": [
        "<a href=\"https://colab.research.google.com/github/ysmaeltrias/CPEN65-1/blob/main/Trias%2CYsmaelJr_Midterm_Exam.ipynb\" target=\"_parent\"><img src=\"https://colab.research.google.com/assets/colab-badge.svg\" alt=\"Open In Colab\"/></a>"
      ]
    },
    {
      "cell_type": "markdown",
      "source": [
        "##            Midterm Exam in DSA\n",
        "\n",
        "by: Ysmael R. Trias Jr | BSCPE 2-1(Irregular)"
      ],
      "metadata": {
        "id": "Q-CnSjzJIgOL"
      }
    },
    {
      "cell_type": "code",
      "source": [
        "# Write a Python program to create an array of 10 integers and display the array items.\n",
        "# Access individual elements through indexes and compute for the sum.\n",
        "\n",
        "integers = []\n",
        "integers = [100, 200, 300, 400, 500, 600, 700, 800, 900, 1000]\n",
        "print (\"Array of 10 integers are:\", integers)\n",
        "num1 = integers[0]\n",
        "num2 = integers[1]\n",
        "num3 = integers[2]\n",
        "num4 = integers[3]\n",
        "num5 = integers[4]\n",
        "num6 = integers[5]\n",
        "num7 = integers[6]\n",
        "num8 = integers[7]\n",
        "num9 = integers[8]\n",
        "num10 = integers[9]\n",
        "asum = sum(integers)\n",
        "\n",
        "print (\"Array[0]:\", num1)\n",
        "print (\"Array[1]:\", num2)\n",
        "print (\"Array[2]:\", num3)\n",
        "print (\"Array[3]:\", num4)\n",
        "print (\"Array[4]:\", num5)\n",
        "print (\"Array[5]:\", num6)\n",
        "print (\"Array[6]:\", num7)\n",
        "print (\"Array[7]:\", num8)\n",
        "print (\"Array[8]:\", num9)\n",
        "print (\"Array[9]:\", num10)\n",
        "print (\"Sum of the Array:\", asum)"
      ],
      "metadata": {
        "colab": {
          "base_uri": "https://localhost:8080/"
        },
        "id": "xI3cqMXVJIL7",
        "outputId": "e82a69fc-bd89-40b2-88c1-c9342c5bd5d4"
      },
      "execution_count": 4,
      "outputs": [
        {
          "output_type": "stream",
          "name": "stdout",
          "text": [
            "Array of 10 integers are: [100, 200, 300, 400, 500, 600, 700, 800, 900, 1000]\n",
            "Array[0]: 100\n",
            "Array[1]: 200\n",
            "Array[2]: 300\n",
            "Array[3]: 400\n",
            "Array[4]: 500\n",
            "Array[5]: 600\n",
            "Array[6]: 700\n",
            "Array[7]: 800\n",
            "Array[8]: 900\n",
            "Array[9]: 1000\n",
            "Sum of the Array: 5500\n"
          ]
        }
      ]
    },
    {
      "cell_type": "code",
      "source": [
        "# Write a Python program to append a new item to the end of the array.\n",
        "# Original array: numbers = [1, 2, 3, 4, 5, 6, 7, 8, 9, 10]\n",
        "\n",
        "import array as arr\n",
        "numbers = arr.array('i',[1, 2, 3, 4, 5, 6, 7, 8, 9, 10])\n",
        "print(\"Original Array:\", numbers)\n",
        "\n",
        "numbers.append(60)\n",
        "print(\"New Array after append:\", numbers)"
      ],
      "metadata": {
        "colab": {
          "base_uri": "https://localhost:8080/"
        },
        "id": "e9TsRxT3Orcq",
        "outputId": "8479869f-f60c-4962-94fb-971e58a79aee"
      },
      "execution_count": 15,
      "outputs": [
        {
          "output_type": "stream",
          "name": "stdout",
          "text": [
            "Original Array: array('i', [1, 2, 3, 4, 5, 6, 7, 8, 9, 10])\n",
            "New Array after append: array('i', [1, 2, 3, 4, 5, 6, 7, 8, 9, 10, 60])\n"
          ]
        }
      ]
    },
    {
      "cell_type": "code",
      "source": [
        "# Write a Python program to insert a new item before the last element in an existing array.\n",
        "# Original array: numbers = [1, 2, 3, 4, 5, 6, 7, 8, 9, 10]\n",
        "\n",
        "import array as arr\n",
        "numbers = arr.array('i',[1, 2, 3, 4, 5, 6, 7, 8, 9, 10])\n",
        "print(\"Original Array:\", numbers)\n",
        "\n",
        "numbers.insert(-1,2829)\n",
        "print(\"New Array after insert:\", numbers)"
      ],
      "metadata": {
        "colab": {
          "base_uri": "https://localhost:8080/"
        },
        "id": "ErXFuRI4Qphn",
        "outputId": "53a1b1c7-5b30-4369-c663-30d9f605c441"
      },
      "execution_count": 16,
      "outputs": [
        {
          "output_type": "stream",
          "name": "stdout",
          "text": [
            "Original Array: array('i', [1, 2, 3, 4, 5, 6, 7, 8, 9, 10])\n",
            "New Array after insert: array('i', [1, 2, 3, 4, 5, 6, 7, 8, 9, 2829, 10])\n"
          ]
        }
      ]
    },
    {
      "cell_type": "code",
      "source": [
        "# Write a Python program to reverse the order of the items in the array.\n",
        "# Original array: numbers = [1, 2, 3, 4, 5]\n",
        "\n",
        "import array as arr\n",
        "numbers = arr.array('i',[1, 2, 3, 4, 5])\n",
        "print(\"Original Array:\", numbers)\n",
        "\n",
        "numbers.reverse()\n",
        "print(\"New Array after reverse:\", numbers)"
      ],
      "metadata": {
        "colab": {
          "base_uri": "https://localhost:8080/"
        },
        "id": "EucOBGV-VhKx",
        "outputId": "2b19da36-67d2-4919-916a-1d0cd5e79219"
      },
      "execution_count": 17,
      "outputs": [
        {
          "output_type": "stream",
          "name": "stdout",
          "text": [
            "Original Array: array('i', [1, 2, 3, 4, 5])\n",
            "New Array after reverse: array('i', [5, 4, 3, 2, 1])\n"
          ]
        }
      ]
    }
  ]
}