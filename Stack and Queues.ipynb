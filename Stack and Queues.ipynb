{
  "nbformat": 4,
  "nbformat_minor": 0,
  "metadata": {
    "colab": {
      "provenance": [],
      "authorship_tag": "ABX9TyO6Eoxco/O/RsaKDRsDBSka",
      "include_colab_link": true
    },
    "kernelspec": {
      "name": "python3",
      "display_name": "Python 3"
    },
    "language_info": {
      "name": "python"
    }
  },
  "cells": [
    {
      "cell_type": "markdown",
      "metadata": {
        "id": "view-in-github",
        "colab_type": "text"
      },
      "source": [
        "<a href=\"https://colab.research.google.com/github/ysmaeltrias/CPEN65-1/blob/main/Stack%20and%20Queues.ipynb\" target=\"_parent\"><img src=\"https://colab.research.google.com/assets/colab-badge.svg\" alt=\"Open In Colab\"/></a>"
      ]
    },
    {
      "cell_type": "code",
      "source": [
        "class Stack:\n",
        "  def __init__(self):\n",
        "    self.stack = []\n",
        "\n",
        "  def push(self, dataval):\n",
        "    if dataval not in self.stack:\n",
        "      return self.stack.append(dataval)\n",
        "    else:\n",
        "      return False\n",
        "  def pop(self):\n",
        "    if len(self.stack)<=0:\n",
        "      return (\"No element in the stack\")\n",
        "    else:\n",
        "      return self.stack.pop()\n",
        "  \n",
        "AStack = Stack()\n",
        "AStack.push(\"A\")\n",
        "AStack.push(\"B\")\n",
        "AStack.push(\"C\")\n",
        "print(AStack.stack)\n",
        "AStack.pop()\n",
        "AStack.pop()\n",
        "print(AStack.stack)"
      ],
      "metadata": {
        "colab": {
          "base_uri": "https://localhost:8080/"
        },
        "id": "DyA9iCUv7nhK",
        "outputId": "ed925c28-4d38-4a6f-aba2-caeb12e857e6"
      },
      "execution_count": 6,
      "outputs": [
        {
          "output_type": "stream",
          "name": "stdout",
          "text": [
            "['A', 'B', 'C']\n",
            "['A']\n"
          ]
        }
      ]
    },
    {
      "cell_type": "code",
      "execution_count": 9,
      "metadata": {
        "colab": {
          "base_uri": "https://localhost:8080/"
        },
        "id": "IA1E8tizz6jH",
        "outputId": "257bc8dd-d143-4748-f42b-e21346dd688d"
      },
      "outputs": [
        {
          "output_type": "stream",
          "name": "stdout",
          "text": [
            "['A', 'B', 'C', 'D']\n",
            "['C', 'D']\n"
          ]
        }
      ],
      "source": [
        "class Queues:\n",
        "  def __init__(self):\n",
        "    self.queues = []\n",
        "\n",
        "  def enqueue(self, dataval):\n",
        "    if dataval not in self.queues:\n",
        "      return self.queues.append(dataval)\n",
        "    else:\n",
        "      return False\n",
        "\n",
        "  def dequeue(self):\n",
        "    if len(self.queues)<=0:\n",
        "      return (\"None\")\n",
        "    else:\n",
        "      return self.queues.pop(0)\n",
        "\n",
        "Queues1 = Queues()\n",
        "Queues1.enqueue(\"A\")\n",
        "Queues1.enqueue(\"B\")\n",
        "Queues1.enqueue(\"C\")\n",
        "Queues1.enqueue(\"D\")\n",
        "print(Queues1.queues)\n",
        "Queues1.dequeue()\n",
        "Queues1.dequeue()\n",
        "print(Queues1.queues)"
      ]
    },
    {
      "cell_type": "code",
      "source": [],
      "metadata": {
        "id": "kK3jyvZG7qEp"
      },
      "execution_count": null,
      "outputs": []
    }
  ]
}